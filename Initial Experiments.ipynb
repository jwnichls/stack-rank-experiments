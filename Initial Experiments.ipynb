{
 "cells": [
  {
   "cell_type": "markdown",
   "id": "0a3a1ddf-21a4-4b2c-addf-dca2e1e2db93",
   "metadata": {},
   "source": [
    "# Initial Experiments in Stack Ranking\n",
    "\n",
    "See https://docs.google.com/document/d/17HctvVkZq1S9bc3sbPo7n0wzAmdUyYuB9Hb83nPttLw/edit for more details on the goals of this work.\n",
    "\n",
    "Planned steps:\n",
    "\n",
    "1. Generate a list of n fake papers with various parameters\n",
    "2. Assign the n papers to m reviewers with a defined amount of overlap\n",
    "3. Generate stack ranks for each of the m reviewers\n",
    "4. Combine the m stack ranks together into a ranked list of n papers\n",
    "5. Analyze the final ranked list "
   ]
  },
  {
   "cell_type": "code",
   "execution_count": 59,
   "id": "0c4bc17f-0ef4-40d4-a46e-039d7bc3eeb6",
   "metadata": {},
   "outputs": [],
   "source": [
    "import random\n",
    "from itertools import combinations"
   ]
  },
  {
   "cell_type": "code",
   "execution_count": 20,
   "id": "fc85dd1c-88b8-4123-bb80-44451a672d53",
   "metadata": {},
   "outputs": [],
   "source": [
    "# Generate a list of n fake papers with various parameters\n",
    "\n",
    "def generate_papers(num_papers):\n",
    "    papers = []\n",
    "    for i in range(num_papers):\n",
    "        papers.append({\n",
    "            'rank': i,\n",
    "            'count': 0,\n",
    "        })\n",
    "    return papers"
   ]
  },
  {
   "cell_type": "code",
   "execution_count": 58,
   "id": "23468b6b-f672-41d5-b598-87995fbb9c68",
   "metadata": {},
   "outputs": [],
   "source": [
    "# Assign the papers to m reviewers with a defined amount of overlap \n",
    "\n",
    "def generate_reviewer_stacks(num_reviewers, papers, stack_size, max_paper_overlap):\n",
    "    # allocate papers via random sample\n",
    "    repeat = True\n",
    "    reviewers = []\n",
    "    while repeat:\n",
    "        # repeat until we get a complete sample (sometimes we may not if papers are not assigned evenly)\n",
    "        \n",
    "        # reset counts\n",
    "        for paper in papers:\n",
    "            paper['count'] = 0\n",
    "            \n",
    "        reviewers = []\n",
    "        available_papers = papers.copy()\n",
    "        try:\n",
    "            for i in range(num_reviewers):\n",
    "                stack = random.sample(available_papers, stack_size)\n",
    "                reviewers.append(stack)\n",
    "                for paper in stack:\n",
    "                    new_count = papers[paper['rank']]['count'] = papers[paper['rank']]['count'] + 1\n",
    "                    if new_count == max_paper_overlap:\n",
    "                        available_papers.remove(paper)\n",
    "\n",
    "            # if we reach this, then all papers were assigned evenly\n",
    "            repeat = False\n",
    "        except ValueError:\n",
    "            # if we reach this, then a paper may have needed to have been assigned twice on the last iteration\n",
    "            pass\n",
    "    return reviewers"
   ]
  },
  {
   "cell_type": "code",
   "execution_count": 60,
   "id": "c365f468-f43b-46e5-b905-d80262ab175d",
   "metadata": {},
   "outputs": [],
   "source": [
    "# Compare reviewer assignments\n",
    "\n",
    "def compare_assignments(reviewer1, reviewer2):\n",
    "    same_count = 0\n",
    "    for paper in reviewer1:\n",
    "        if paper in reviewer2:\n",
    "            same_count = same_count + 1\n",
    "\n",
    "    if same_count == len(reviewer1):\n",
    "        print('Completely identical sample!')\n",
    "\n",
    "    return same_count\n",
    "\n",
    "\n",
    "def compare_all_assignments(reviewers):\n",
    "    same_counts = []\n",
    "    for pair in list(combinations(reviewers, 2)):\n",
    "        same_counts.append(compare_assignments(pair[0], pair[1]))\n",
    "\n",
    "    return same_counts"
   ]
  },
  {
   "cell_type": "code",
   "execution_count": 62,
   "id": "99b3ba63-2f27-49c1-9c61-81880e415f3e",
   "metadata": {},
   "outputs": [],
   "source": [
    "# A couple basic stack ranking methods\n",
    "\n",
    "def randomize_all_stack_ranks(reviewers):\n",
    "    for reviewer in reviewers:\n",
    "        random.shuffle(reviewer)\n",
    "\n",
    "def set_perfect_rank(reviewer):\n",
    "    reviewer.sort(key=lambda paper: paper['rank'])"
   ]
  },
  {
   "cell_type": "code",
   "execution_count": null,
   "id": "09f5bd70-e79f-4889-ba91-a778288bbde5",
   "metadata": {},
   "outputs": [],
   "source": [
    "# One probably naive method for combining stacks\n",
    "\n",
    "def combine_stacks(reviewers):\n",
    "    # TODO\n",
    "    pass"
   ]
  },
  {
   "cell_type": "code",
   "execution_count": 46,
   "id": "25705466-e48a-40ba-8603-a170f818aa2d",
   "metadata": {},
   "outputs": [],
   "source": [
    "papers = generate_papers(10)"
   ]
  },
  {
   "cell_type": "code",
   "execution_count": 56,
   "id": "d05b329e-df77-416e-9250-5441c2fe750f",
   "metadata": {},
   "outputs": [],
   "source": [
    "reviewers = generate_reviewer_stacks(5, papers, 4, 2)"
   ]
  },
  {
   "cell_type": "code",
   "execution_count": 76,
   "id": "44acba19-dae0-40d4-876e-969b4ad37c98",
   "metadata": {},
   "outputs": [
    {
     "data": {
      "text/plain": [
       "[[{'rank': 4, 'count': 2},\n",
       "  {'rank': 9, 'count': 2},\n",
       "  {'rank': 0, 'count': 2},\n",
       "  {'rank': 6, 'count': 2}],\n",
       " [{'rank': 1, 'count': 2},\n",
       "  {'rank': 7, 'count': 2},\n",
       "  {'rank': 0, 'count': 2},\n",
       "  {'rank': 5, 'count': 2}],\n",
       " [{'rank': 4, 'count': 2},\n",
       "  {'rank': 1, 'count': 2},\n",
       "  {'rank': 7, 'count': 2},\n",
       "  {'rank': 6, 'count': 2}],\n",
       " [{'rank': 2, 'count': 2},\n",
       "  {'rank': 8, 'count': 2},\n",
       "  {'rank': 3, 'count': 2},\n",
       "  {'rank': 5, 'count': 2}],\n",
       " [{'rank': 8, 'count': 2},\n",
       "  {'rank': 9, 'count': 2},\n",
       "  {'rank': 3, 'count': 2},\n",
       "  {'rank': 2, 'count': 2}]]"
      ]
     },
     "execution_count": 76,
     "metadata": {},
     "output_type": "execute_result"
    }
   ],
   "source": [
    "reviewers"
   ]
  },
  {
   "cell_type": "code",
   "execution_count": 77,
   "id": "7ea9c386-8086-4c5d-9c65-f3628b2e60d4",
   "metadata": {},
   "outputs": [
    {
     "data": {
      "text/plain": [
       "[1, 2, 0, 1, 2, 1, 0, 0, 0, 3]"
      ]
     },
     "execution_count": 77,
     "metadata": {},
     "output_type": "execute_result"
    }
   ],
   "source": [
    "compare_all_assignments(reviewers)"
   ]
  },
  {
   "cell_type": "code",
   "execution_count": 73,
   "id": "5346a21d-533b-4790-b173-06290193f73e",
   "metadata": {},
   "outputs": [
    {
     "data": {
      "text/plain": [
       "[{'rank': 6, 'count': 2},\n",
       " {'rank': 4, 'count': 2},\n",
       " {'rank': 0, 'count': 2},\n",
       " {'rank': 9, 'count': 2}]"
      ]
     },
     "execution_count": 73,
     "metadata": {},
     "output_type": "execute_result"
    }
   ],
   "source": [
    "reviewers[0]"
   ]
  },
  {
   "cell_type": "code",
   "execution_count": 64,
   "id": "1ace74f8-bd75-4afc-8222-0932e6053cad",
   "metadata": {},
   "outputs": [],
   "source": [
    "set_perfect_rank(reviewers[0])"
   ]
  },
  {
   "cell_type": "code",
   "execution_count": 72,
   "id": "78d973fa-ceca-4c7f-beef-6c43ed17e68d",
   "metadata": {},
   "outputs": [],
   "source": [
    "random.shuffle(reviewers[0])"
   ]
  },
  {
   "cell_type": "code",
   "execution_count": 75,
   "id": "57ce3aec-4ea1-40ae-81b4-ac55e93ff8f2",
   "metadata": {},
   "outputs": [],
   "source": [
    "randomize_all_stack_ranks(reviewers)"
   ]
  },
  {
   "cell_type": "code",
   "execution_count": null,
   "id": "9f79d4cf-4042-4017-9b91-47d75e5066c6",
   "metadata": {},
   "outputs": [],
   "source": []
  }
 ],
 "metadata": {
  "kernelspec": {
   "display_name": "Python 3 (ipykernel)",
   "language": "python",
   "name": "python3"
  },
  "language_info": {
   "codemirror_mode": {
    "name": "ipython",
    "version": 3
   },
   "file_extension": ".py",
   "mimetype": "text/x-python",
   "name": "python",
   "nbconvert_exporter": "python",
   "pygments_lexer": "ipython3",
   "version": "3.8.17"
  }
 },
 "nbformat": 4,
 "nbformat_minor": 5
}
